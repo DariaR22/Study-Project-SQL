{
 "cells": [
  {
   "cell_type": "markdown",
   "id": "e442042f",
   "metadata": {},
   "source": [
    "# SQL Analytics Project: Analyzing Product Sales in the Mobile App"
   ]
  },
  {
   "cell_type": "markdown",
   "id": "9838a5a0",
   "metadata": {},
   "source": [
    "## Problem"
   ]
  },
  {
   "cell_type": "markdown",
   "id": "b93f655b",
   "metadata": {},
   "source": [
    "We have mobile app data of a large chain store. This data include information about installations, activity in the app (views) and purchases. App users are devided into two groups: those who use IOS platform and those who use Android platform. We need to compare installs and purchases of these groups and check if the are significant difference."
   ]
  },
  {
   "cell_type": "markdown",
   "id": "09835a14",
   "metadata": {},
   "source": [
    "## Data"
   ]
  },
  {
   "cell_type": "markdown",
   "id": "b2b93769",
   "metadata": {},
   "source": [
    "There are four tables, and their names and column definitions are listed below:"
   ]
  },
  {
   "cell_type": "markdown",
   "id": "776b2b0a",
   "metadata": {},
   "source": [
    "### Table 1: Installs"
   ]
  },
  {
   "cell_type": "markdown",
   "id": "870fd66c",
   "metadata": {},
   "source": [
    "_This table includes information about app installations by day_"
   ]
  },
  {
   "cell_type": "markdown",
   "id": "8b4c6b56",
   "metadata": {},
   "source": [
    "__DeviceID__ — a unique ID per device, on which the application was installed; \n",
    "\n",
    "__InstallationDate__ — date of app installation;\n",
    "\n",
    "__InstallCost__ — price for installation;\n",
    "\n",
    "__Platform__ — platform, on which the application was installed (iOS/ Android);\n",
    "\n",
    "__Source__ — source of app installation (app store/ advertising system/ website traffic)"
   ]
  },
  {
   "cell_type": "markdown",
   "id": "2393f954",
   "metadata": {},
   "source": [
    "### Table 2: Events "
   ]
  },
  {
   "cell_type": "markdown",
   "id": "58ce573f",
   "metadata": {},
   "source": [
    "_This table includes information about user activity (views of products) by day_"
   ]
  },
  {
   "cell_type": "markdown",
   "id": "78abf8ca",
   "metadata": {},
   "source": [
    "__DeviceID__ — a unique ID per device, on which the application was installed; \n",
    "\n",
    "__AppPlatform__ — platform, on which the application is used (iOS/ Android);\n",
    "\n",
    "__EventDate__ — date of statistics collection;\n",
    "\n",
    "__events__ — the number of views of all products for this day at this DeviceID."
   ]
  },
  {
   "cell_type": "markdown",
   "id": "307a6686",
   "metadata": {},
   "source": [
    "The feature of the application is that user does not need authorization to view products. Until the moment of authorization the user has only DeviceID (the device identifier). A login is required only to make a purchase. At the moment of authorization, the user is assigned a UserID."
   ]
  },
  {
   "cell_type": "markdown",
   "id": "cfc3b5f9",
   "metadata": {},
   "source": [
    "### Table 3: Checks"
   ]
  },
  {
   "cell_type": "markdown",
   "id": "43f88d7f",
   "metadata": {},
   "source": [
    "_This table includes information about purchases in the app by day_"
   ]
  },
  {
   "cell_type": "markdown",
   "id": "bb72f7f6",
   "metadata": {},
   "source": [
    "__UserID__ — a unique ID per user;\n",
    "\n",
    "__Rub__ — the user's total receipt for the date;\n",
    "\n",
    "__BuyDate__ — date of statistics collection."
   ]
  },
  {
   "cell_type": "markdown",
   "id": "c36cb24a",
   "metadata": {},
   "source": [
    "### Table 4: Devices"
   ]
  },
  {
   "cell_type": "markdown",
   "id": "0bf96a29",
   "metadata": {},
   "source": [
    "__DeviceID__ — a unique ID per device;\n",
    "\n",
    "__UserID__ — a unique ID per user."
   ]
  },
  {
   "cell_type": "markdown",
   "id": "df3521d2",
   "metadata": {},
   "source": [
    "## Analysis"
   ]
  },
  {
   "cell_type": "markdown",
   "id": "58a9dddf",
   "metadata": {},
   "source": [
    "Importing libraries"
   ]
  },
  {
   "cell_type": "code",
   "execution_count": 2,
   "id": "92ccbca8",
   "metadata": {},
   "outputs": [],
   "source": [
    "import pandahouse as ph\n",
    "connection = dict(database='default',\n",
    "                  host='https://clickhouse.lab.karpov.courses',\n",
    "                  user='student',\n",
    "                  password='dpo_python_2020')"
   ]
  },
  {
   "cell_type": "markdown",
   "id": "587aa0b6",
   "metadata": {},
   "source": [
    "First of all we need to choose metrics that help us compare two platforms.\n",
    "\n",
    "I will use conversion from viewing to autorization, from autorization to purchase, average check and average views"
   ]
  },
  {
   "cell_type": "code",
   "execution_count": 7,
   "id": "3de2f033",
   "metadata": {},
   "outputs": [
    {
     "data": {
      "text/html": [
       "<div>\n",
       "<style scoped>\n",
       "    .dataframe tbody tr th:only-of-type {\n",
       "        vertical-align: middle;\n",
       "    }\n",
       "\n",
       "    .dataframe tbody tr th {\n",
       "        vertical-align: top;\n",
       "    }\n",
       "\n",
       "    .dataframe thead th {\n",
       "        text-align: right;\n",
       "    }\n",
       "</style>\n",
       "<table border=\"1\" class=\"dataframe\">\n",
       "  <thead>\n",
       "    <tr style=\"text-align: right;\">\n",
       "      <th></th>\n",
       "      <th>AppPlatform</th>\n",
       "      <th>events_q</th>\n",
       "      <th>autoriz_q</th>\n",
       "      <th>CR</th>\n",
       "    </tr>\n",
       "  </thead>\n",
       "  <tbody>\n",
       "    <tr>\n",
       "      <th>0</th>\n",
       "      <td>iOS</td>\n",
       "      <td>4298120</td>\n",
       "      <td>2284988</td>\n",
       "      <td>0.531625</td>\n",
       "    </tr>\n",
       "    <tr>\n",
       "      <th>1</th>\n",
       "      <td>android</td>\n",
       "      <td>14110738</td>\n",
       "      <td>7121648</td>\n",
       "      <td>0.504697</td>\n",
       "    </tr>\n",
       "  </tbody>\n",
       "</table>\n",
       "</div>"
      ],
      "text/plain": [
       "  AppPlatform  events_q  autoriz_q        CR\n",
       "0         iOS   4298120    2284988  0.531625\n",
       "1     android  14110738    7121648  0.504697"
      ]
     },
     "execution_count": 7,
     "metadata": {},
     "output_type": "execute_result"
    }
   ],
   "source": [
    "query = \"\"\"     \n",
    "SELECT \n",
    "    ev.AppPlatform,\n",
    "    count(DISTINCT DeviceID) AS events_q, --the number users who have views\n",
    "    a.autoriz_q,\n",
    "    a.autoriz_q/events_q as CR --convertion from view to autorization\n",
    "FROM \n",
    "    events ev\n",
    "JOIN \n",
    "    (SELECT\n",
    "        e.AppPlatform,\n",
    "        count(DISTINCT DeviceID) AS autoriz_q --the number of authorized users who have views\n",
    "    FROM \n",
    "        events e\n",
    "    JOIN \n",
    "        devices d\n",
    "    USING\n",
    "        (DeviceID)\n",
    "    GROUP BY \n",
    "    e.AppPlatform) AS a\n",
    "ON \n",
    "    a.AppPlatform = ev.AppPlatform\n",
    "GROUP BY \n",
    "    AppPlatform, a.autoriz_q\n",
    "\"\"\"\n",
    "df = ph.read_clickhouse(query, connection=connection)\n",
    "df"
   ]
  },
  {
   "cell_type": "code",
   "execution_count": 4,
   "id": "43b9175c",
   "metadata": {},
   "outputs": [
    {
     "data": {
      "text/html": [
       "<div>\n",
       "<style scoped>\n",
       "    .dataframe tbody tr th:only-of-type {\n",
       "        vertical-align: middle;\n",
       "    }\n",
       "\n",
       "    .dataframe tbody tr th {\n",
       "        vertical-align: top;\n",
       "    }\n",
       "\n",
       "    .dataframe thead th {\n",
       "        text-align: right;\n",
       "    }\n",
       "</style>\n",
       "<table border=\"1\" class=\"dataframe\">\n",
       "  <thead>\n",
       "    <tr style=\"text-align: right;\">\n",
       "      <th></th>\n",
       "      <th>Platform</th>\n",
       "      <th>autoriz_q</th>\n",
       "      <th>purch_q</th>\n",
       "      <th>CR</th>\n",
       "    </tr>\n",
       "  </thead>\n",
       "  <tbody>\n",
       "    <tr>\n",
       "      <th>0</th>\n",
       "      <td>android</td>\n",
       "      <td>4625795</td>\n",
       "      <td>3027287</td>\n",
       "      <td>0.654436</td>\n",
       "    </tr>\n",
       "    <tr>\n",
       "      <th>1</th>\n",
       "      <td>iOS</td>\n",
       "      <td>1105145</td>\n",
       "      <td>564247</td>\n",
       "      <td>0.510564</td>\n",
       "    </tr>\n",
       "  </tbody>\n",
       "</table>\n",
       "</div>"
      ],
      "text/plain": [
       "  Platform  autoriz_q  purch_q        CR\n",
       "0  android    4625795  3027287  0.654436\n",
       "1      iOS    1105145   564247  0.510564"
      ]
     },
     "execution_count": 4,
     "metadata": {},
     "output_type": "execute_result"
    }
   ],
   "source": [
    "query = \"\"\"\n",
    "SELECT \n",
    "    Platform, \n",
    "    autoriz_q, \n",
    "    purch_q, \n",
    "    purch_q/autoriz_q AS CR --covertion from utorization to purchase\n",
    "FROM\n",
    "    (SELECT \n",
    "        in.Platform, \n",
    "        count(DISTINCT dv.DeviceID) AS autoriz_q --the number of authorized users\n",
    "    FROM \n",
    "        devices dv \n",
    "    JOIN \n",
    "        installs in\n",
    "    ON \n",
    "        dv.DeviceID = in.DeviceID\n",
    "    GROUP BY \n",
    "        in.Platform) AS a\n",
    "JOIN\n",
    "    (SELECT \n",
    "        i.Platform, \n",
    "        count(DISTINCT d.DeviceID) AS purch_q --the number of authorized users who made the purchases\n",
    "    FROM \n",
    "        devices d \n",
    "    JOIN \n",
    "        installs i\n",
    "    ON \n",
    "        d.DeviceID = i.DeviceID\n",
    "    JOIN \n",
    "        checks c\n",
    "    ON \n",
    "        c.UserID=d.UserID\n",
    "    GROUP BY \n",
    "        i.Platform) AS p\n",
    "ON \n",
    "    i.Platform = a.Platform\n",
    "GROUP BY \n",
    "    Platform, autoriz_q, purch_q\n",
    "\"\"\"\n",
    "df = ph.read_clickhouse(query, connection=connection)\n",
    "df"
   ]
  },
  {
   "cell_type": "code",
   "execution_count": 3,
   "id": "2a85a905",
   "metadata": {},
   "outputs": [
    {
     "data": {
      "text/html": [
       "<div>\n",
       "<style scoped>\n",
       "    .dataframe tbody tr th:only-of-type {\n",
       "        vertical-align: middle;\n",
       "    }\n",
       "\n",
       "    .dataframe tbody tr th {\n",
       "        vertical-align: top;\n",
       "    }\n",
       "\n",
       "    .dataframe thead th {\n",
       "        text-align: right;\n",
       "    }\n",
       "</style>\n",
       "<table border=\"1\" class=\"dataframe\">\n",
       "  <thead>\n",
       "    <tr style=\"text-align: right;\">\n",
       "      <th></th>\n",
       "      <th>i.Platform</th>\n",
       "      <th>avg_sum</th>\n",
       "    </tr>\n",
       "  </thead>\n",
       "  <tbody>\n",
       "    <tr>\n",
       "      <th>0</th>\n",
       "      <td>android</td>\n",
       "      <td>10.394975</td>\n",
       "    </tr>\n",
       "    <tr>\n",
       "      <th>1</th>\n",
       "      <td>iOS</td>\n",
       "      <td>11.024963</td>\n",
       "    </tr>\n",
       "  </tbody>\n",
       "</table>\n",
       "</div>"
      ],
      "text/plain": [
       "  i.Platform    avg_sum\n",
       "0    android  10.394975\n",
       "1        iOS  11.024963"
      ]
     },
     "execution_count": 3,
     "metadata": {},
     "output_type": "execute_result"
    }
   ],
   "source": [
    "query = \"\"\"\n",
    "SELECT \n",
    "    i.Platform, avg(c.Rub) AS avg_sum --average check\n",
    "FROM \n",
    "    checks c\n",
    "JOIN \n",
    "    devices d\n",
    "ON \n",
    "    c.UserID = d.UserID\n",
    "JOIN \n",
    "    installs i\n",
    "ON \n",
    "    i.DeviceID = d.DeviceID\n",
    "GROUP BY \n",
    "    i.Platform\n",
    "\"\"\"\n",
    "df = ph.read_clickhouse(query, connection=connection)\n",
    "df"
   ]
  },
  {
   "cell_type": "code",
   "execution_count": 5,
   "id": "7f15e303",
   "metadata": {},
   "outputs": [
    {
     "data": {
      "text/html": [
       "<div>\n",
       "<style scoped>\n",
       "    .dataframe tbody tr th:only-of-type {\n",
       "        vertical-align: middle;\n",
       "    }\n",
       "\n",
       "    .dataframe tbody tr th {\n",
       "        vertical-align: top;\n",
       "    }\n",
       "\n",
       "    .dataframe thead th {\n",
       "        text-align: right;\n",
       "    }\n",
       "</style>\n",
       "<table border=\"1\" class=\"dataframe\">\n",
       "  <thead>\n",
       "    <tr style=\"text-align: right;\">\n",
       "      <th></th>\n",
       "      <th>AppPlatform</th>\n",
       "      <th>avg_event</th>\n",
       "    </tr>\n",
       "  </thead>\n",
       "  <tbody>\n",
       "    <tr>\n",
       "      <th>0</th>\n",
       "      <td>iOS</td>\n",
       "      <td>25.424526</td>\n",
       "    </tr>\n",
       "    <tr>\n",
       "      <th>1</th>\n",
       "      <td>android</td>\n",
       "      <td>26.006177</td>\n",
       "    </tr>\n",
       "  </tbody>\n",
       "</table>\n",
       "</div>"
      ],
      "text/plain": [
       "  AppPlatform  avg_event\n",
       "0         iOS  25.424526\n",
       "1     android  26.006177"
      ]
     },
     "execution_count": 5,
     "metadata": {},
     "output_type": "execute_result"
    }
   ],
   "source": [
    "query = \"\"\"\n",
    "SELECT \n",
    "    AppPlatform, \n",
    "    avg(e.events) AS avg_event --average views\n",
    "FROM \n",
    "    events e\n",
    "GROUP BY \n",
    "    AppPlatform\n",
    "\"\"\"\n",
    "df = ph.read_clickhouse(query, connection=connection)\n",
    "df"
   ]
  },
  {
   "cell_type": "markdown",
   "id": "5bd7054a",
   "metadata": {},
   "source": [
    "## Conclusion"
   ]
  },
  {
   "cell_type": "markdown",
   "id": "9ad7a7ea",
   "metadata": {},
   "source": [
    "We can see that the conversion from viewing to authorization is slightly higher for iOS users, and the conversion from authorization to purchase is higher for Android users. This may indicate that the purchase page is probably worse configured in the iOS app, which stops users from buying after registration. At the same time, the average check and average views are practically the same on the two platforms."
   ]
  }
 ],
 "metadata": {
  "kernelspec": {
   "display_name": "Python 3",
   "language": "python",
   "name": "python3"
  },
  "language_info": {
   "codemirror_mode": {
    "name": "ipython",
    "version": 3
   },
   "file_extension": ".py",
   "mimetype": "text/x-python",
   "name": "python",
   "nbconvert_exporter": "python",
   "pygments_lexer": "ipython3",
   "version": "3.7.3"
  }
 },
 "nbformat": 4,
 "nbformat_minor": 5
}
