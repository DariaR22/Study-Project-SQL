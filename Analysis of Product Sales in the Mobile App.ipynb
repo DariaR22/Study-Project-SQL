{
 "cells": [
  {
   "cell_type": "markdown",
   "metadata": {},
   "source": [
    "# SQL Analytics Project: Analysis of Product Sales in the Mobile App"
   ]
  },
  {
   "cell_type": "markdown",
   "metadata": {},
   "source": [
    "## Problem"
   ]
  },
  {
   "cell_type": "markdown",
   "metadata": {},
   "source": [
    "We have mobile app data of a large chain store. This data include information about installations, activity in the app (views) and purchases. App users are devided into two groups: those who use IOS platform and those who use Android platform. We need to compare installs and purchases of these groups and check if there are significant difference."
   ]
  },
  {
   "cell_type": "markdown",
   "metadata": {},
   "source": [
    "## Data"
   ]
  },
  {
   "cell_type": "markdown",
   "metadata": {},
   "source": [
    "There are four tables, and their names and column definitions are listed below:"
   ]
  },
  {
   "cell_type": "markdown",
   "metadata": {},
   "source": [
    "### Table 1: Installs"
   ]
  },
  {
   "cell_type": "markdown",
   "metadata": {},
   "source": [
    "_This table includes information about app installations by day_"
   ]
  },
  {
   "cell_type": "markdown",
   "metadata": {},
   "source": [
    "__DeviceID__ — a unique ID per device, on which the application was installed; \n",
    "\n",
    "__InstallationDate__ — date of app installation;\n",
    "\n",
    "__InstallCost__ — price for installation;\n",
    "\n",
    "__Platform__ — platform, on which the application was installed (iOS/ Android);\n",
    "\n",
    "__Source__ — source of app installation (app store/ advertising system/ website traffic)"
   ]
  },
  {
   "cell_type": "markdown",
   "metadata": {},
   "source": [
    "### Table 2: Events "
   ]
  },
  {
   "cell_type": "markdown",
   "metadata": {},
   "source": [
    "_This table includes information about user activity (views of products) by day_"
   ]
  },
  {
   "cell_type": "markdown",
   "metadata": {},
   "source": [
    "__DeviceID__ — a unique ID per device, on which the application was installed; \n",
    "\n",
    "__AppPlatform__ — platform, on which the application is used (iOS/ Android);\n",
    "\n",
    "__EventDate__ — date of statistics collection;\n",
    "\n",
    "__events__ — the number of views of all products for this day at this DeviceID."
   ]
  },
  {
   "cell_type": "markdown",
   "metadata": {},
   "source": [
    "The feature of the application is that user does not need authorization to view products. Until the moment of authorization the user has only DeviceID (the device identifier). A login is required only to make a purchase. At the moment of authorization, the user is assigned a UserID."
   ]
  },
  {
   "cell_type": "markdown",
   "metadata": {},
   "source": [
    "### Table 3: Checks"
   ]
  },
  {
   "cell_type": "markdown",
   "metadata": {},
   "source": [
    "_This table includes information about purchases in the app by day_"
   ]
  },
  {
   "cell_type": "markdown",
   "metadata": {},
   "source": [
    "__UserID__ — a unique ID per user;\n",
    "\n",
    "__Rub__ — the user's total receipt for the date;\n",
    "\n",
    "__BuyDate__ — date of statistics collection."
   ]
  },
  {
   "cell_type": "markdown",
   "metadata": {},
   "source": [
    "### Table 4: Devices"
   ]
  },
  {
   "cell_type": "markdown",
   "metadata": {},
   "source": [
    "__DeviceID__ — a unique ID per device;\n",
    "\n",
    "__UserID__ — a unique ID per user."
   ]
  },
  {
   "cell_type": "markdown",
   "metadata": {},
   "source": [
    "## Analysis"
   ]
  },
  {
   "cell_type": "markdown",
   "metadata": {},
   "source": [
    "Importing libraries"
   ]
  },
  {
   "cell_type": "code",
   "execution_count": 1,
   "metadata": {},
   "outputs": [],
   "source": [
    "import pandahouse as ph\n",
    "connection = dict(database='default',\n",
    "                  host='https://clickhouse.lab.karpov.courses',\n",
    "                  user='student',\n",
    "                  password='dpo_python_2020')"
   ]
  },
  {
   "cell_type": "markdown",
   "metadata": {},
   "source": [
    "Let's take a look at the tables"
   ]
  },
  {
   "cell_type": "code",
   "execution_count": 2,
   "metadata": {},
   "outputs": [
    {
     "data": {
      "text/html": [
       "<div>\n",
       "<style scoped>\n",
       "    .dataframe tbody tr th:only-of-type {\n",
       "        vertical-align: middle;\n",
       "    }\n",
       "\n",
       "    .dataframe tbody tr th {\n",
       "        vertical-align: top;\n",
       "    }\n",
       "\n",
       "    .dataframe thead th {\n",
       "        text-align: right;\n",
       "    }\n",
       "</style>\n",
       "<table border=\"1\" class=\"dataframe\">\n",
       "  <thead>\n",
       "    <tr style=\"text-align: right;\">\n",
       "      <th></th>\n",
       "      <th>InstallationDate</th>\n",
       "      <th>InstallCost</th>\n",
       "      <th>Platform</th>\n",
       "      <th>DeviceID</th>\n",
       "      <th>Source</th>\n",
       "    </tr>\n",
       "  </thead>\n",
       "  <tbody>\n",
       "    <tr>\n",
       "      <th>0</th>\n",
       "      <td>2019-03-02</td>\n",
       "      <td>0</td>\n",
       "      <td>android</td>\n",
       "      <td>7950068545577019282</td>\n",
       "      <td>Source_27</td>\n",
       "    </tr>\n",
       "    <tr>\n",
       "      <th>1</th>\n",
       "      <td>2019-03-17</td>\n",
       "      <td>49</td>\n",
       "      <td>android</td>\n",
       "      <td>17173992779193729517</td>\n",
       "      <td>Source_14</td>\n",
       "    </tr>\n",
       "    <tr>\n",
       "      <th>2</th>\n",
       "      <td>2019-04-07</td>\n",
       "      <td>56</td>\n",
       "      <td>android</td>\n",
       "      <td>9528182466778893591</td>\n",
       "      <td>Source_14</td>\n",
       "    </tr>\n",
       "  </tbody>\n",
       "</table>\n",
       "</div>"
      ],
      "text/plain": [
       "  InstallationDate  InstallCost Platform              DeviceID     Source\n",
       "0       2019-03-02            0  android   7950068545577019282  Source_27\n",
       "1       2019-03-17           49  android  17173992779193729517  Source_14\n",
       "2       2019-04-07           56  android   9528182466778893591  Source_14"
      ]
     },
     "execution_count": 2,
     "metadata": {},
     "output_type": "execute_result"
    }
   ],
   "source": [
    "query = \"\"\"     \n",
    "SELECT *\n",
    "FROM installs\n",
    "LIMIT 3\n",
    "\"\"\"\n",
    "df = ph.read_clickhouse(query, connection=connection)\n",
    "df"
   ]
  },
  {
   "cell_type": "code",
   "execution_count": 3,
   "metadata": {},
   "outputs": [
    {
     "data": {
      "text/html": [
       "<div>\n",
       "<style scoped>\n",
       "    .dataframe tbody tr th:only-of-type {\n",
       "        vertical-align: middle;\n",
       "    }\n",
       "\n",
       "    .dataframe tbody tr th {\n",
       "        vertical-align: top;\n",
       "    }\n",
       "\n",
       "    .dataframe thead th {\n",
       "        text-align: right;\n",
       "    }\n",
       "</style>\n",
       "<table border=\"1\" class=\"dataframe\">\n",
       "  <thead>\n",
       "    <tr style=\"text-align: right;\">\n",
       "      <th></th>\n",
       "      <th>AppPlatform</th>\n",
       "      <th>events</th>\n",
       "      <th>EventDate</th>\n",
       "      <th>DeviceID</th>\n",
       "    </tr>\n",
       "  </thead>\n",
       "  <tbody>\n",
       "    <tr>\n",
       "      <th>0</th>\n",
       "      <td>android</td>\n",
       "      <td>8</td>\n",
       "      <td>2019-09-29</td>\n",
       "      <td>7429291373250434008</td>\n",
       "    </tr>\n",
       "    <tr>\n",
       "      <th>1</th>\n",
       "      <td>android</td>\n",
       "      <td>175</td>\n",
       "      <td>2019-09-15</td>\n",
       "      <td>7429291824672902510</td>\n",
       "    </tr>\n",
       "    <tr>\n",
       "      <th>2</th>\n",
       "      <td>android</td>\n",
       "      <td>0</td>\n",
       "      <td>2019-09-17</td>\n",
       "      <td>7429291824672902510</td>\n",
       "    </tr>\n",
       "  </tbody>\n",
       "</table>\n",
       "</div>"
      ],
      "text/plain": [
       "  AppPlatform  events   EventDate             DeviceID\n",
       "0     android       8  2019-09-29  7429291373250434008\n",
       "1     android     175  2019-09-15  7429291824672902510\n",
       "2     android       0  2019-09-17  7429291824672902510"
      ]
     },
     "execution_count": 3,
     "metadata": {},
     "output_type": "execute_result"
    }
   ],
   "source": [
    "query = \"\"\"     \n",
    "SELECT *\n",
    "FROM events\n",
    "LIMIT 3\n",
    "\"\"\"\n",
    "df = ph.read_clickhouse(query, connection=connection)\n",
    "df"
   ]
  },
  {
   "cell_type": "code",
   "execution_count": 4,
   "metadata": {},
   "outputs": [
    {
     "data": {
      "text/html": [
       "<div>\n",
       "<style scoped>\n",
       "    .dataframe tbody tr th:only-of-type {\n",
       "        vertical-align: middle;\n",
       "    }\n",
       "\n",
       "    .dataframe tbody tr th {\n",
       "        vertical-align: top;\n",
       "    }\n",
       "\n",
       "    .dataframe thead th {\n",
       "        text-align: right;\n",
       "    }\n",
       "</style>\n",
       "<table border=\"1\" class=\"dataframe\">\n",
       "  <thead>\n",
       "    <tr style=\"text-align: right;\">\n",
       "      <th></th>\n",
       "      <th>Rub</th>\n",
       "      <th>BuyDate</th>\n",
       "      <th>UserID</th>\n",
       "    </tr>\n",
       "  </thead>\n",
       "  <tbody>\n",
       "    <tr>\n",
       "      <th>0</th>\n",
       "      <td>3</td>\n",
       "      <td>2019-10-04</td>\n",
       "      <td>18446583642950580515</td>\n",
       "    </tr>\n",
       "    <tr>\n",
       "      <th>1</th>\n",
       "      <td>4</td>\n",
       "      <td>2019-10-04</td>\n",
       "      <td>18446535622689003675</td>\n",
       "    </tr>\n",
       "    <tr>\n",
       "      <th>2</th>\n",
       "      <td>0</td>\n",
       "      <td>2019-10-04</td>\n",
       "      <td>18446130411954852964</td>\n",
       "    </tr>\n",
       "  </tbody>\n",
       "</table>\n",
       "</div>"
      ],
      "text/plain": [
       "   Rub     BuyDate                UserID\n",
       "0    3  2019-10-04  18446583642950580515\n",
       "1    4  2019-10-04  18446535622689003675\n",
       "2    0  2019-10-04  18446130411954852964"
      ]
     },
     "execution_count": 4,
     "metadata": {},
     "output_type": "execute_result"
    }
   ],
   "source": [
    "query = \"\"\"     \n",
    "SELECT *\n",
    "FROM checks\n",
    "LIMIT 3\n",
    "\"\"\"\n",
    "df = ph.read_clickhouse(query, connection=connection)\n",
    "df"
   ]
  },
  {
   "cell_type": "code",
   "execution_count": 5,
   "metadata": {},
   "outputs": [
    {
     "data": {
      "text/html": [
       "<div>\n",
       "<style scoped>\n",
       "    .dataframe tbody tr th:only-of-type {\n",
       "        vertical-align: middle;\n",
       "    }\n",
       "\n",
       "    .dataframe tbody tr th {\n",
       "        vertical-align: top;\n",
       "    }\n",
       "\n",
       "    .dataframe thead th {\n",
       "        text-align: right;\n",
       "    }\n",
       "</style>\n",
       "<table border=\"1\" class=\"dataframe\">\n",
       "  <thead>\n",
       "    <tr style=\"text-align: right;\">\n",
       "      <th></th>\n",
       "      <th>DeviceID</th>\n",
       "      <th>UserID</th>\n",
       "    </tr>\n",
       "  </thead>\n",
       "  <tbody>\n",
       "    <tr>\n",
       "      <th>0</th>\n",
       "      <td>290132773793</td>\n",
       "      <td>9407952136059258036</td>\n",
       "    </tr>\n",
       "    <tr>\n",
       "      <th>1</th>\n",
       "      <td>619578718457</td>\n",
       "      <td>14561372283986042425</td>\n",
       "    </tr>\n",
       "    <tr>\n",
       "      <th>2</th>\n",
       "      <td>9011245721293</td>\n",
       "      <td>284698082657182871</td>\n",
       "    </tr>\n",
       "  </tbody>\n",
       "</table>\n",
       "</div>"
      ],
      "text/plain": [
       "        DeviceID                UserID\n",
       "0   290132773793   9407952136059258036\n",
       "1   619578718457  14561372283986042425\n",
       "2  9011245721293    284698082657182871"
      ]
     },
     "execution_count": 5,
     "metadata": {},
     "output_type": "execute_result"
    }
   ],
   "source": [
    "query = \"\"\"     \n",
    "SELECT *\n",
    "FROM devices\n",
    "LIMIT 3\n",
    "\"\"\"\n",
    "df = ph.read_clickhouse(query, connection=connection)\n",
    "df"
   ]
  },
  {
   "cell_type": "markdown",
   "metadata": {},
   "source": [
    "First of all we need to choose metrics that help us compare two platforms.\n",
    "\n",
    "I will use conversion from viewing to autorization and from autorization to purchase, average check and average views"
   ]
  },
  {
   "cell_type": "code",
   "execution_count": 6,
   "metadata": {},
   "outputs": [
    {
     "data": {
      "text/html": [
       "<div>\n",
       "<style scoped>\n",
       "    .dataframe tbody tr th:only-of-type {\n",
       "        vertical-align: middle;\n",
       "    }\n",
       "\n",
       "    .dataframe tbody tr th {\n",
       "        vertical-align: top;\n",
       "    }\n",
       "\n",
       "    .dataframe thead th {\n",
       "        text-align: right;\n",
       "    }\n",
       "</style>\n",
       "<table border=\"1\" class=\"dataframe\">\n",
       "  <thead>\n",
       "    <tr style=\"text-align: right;\">\n",
       "      <th></th>\n",
       "      <th>AppPlatform</th>\n",
       "      <th>events_q</th>\n",
       "      <th>autoriz_q</th>\n",
       "      <th>CR</th>\n",
       "    </tr>\n",
       "  </thead>\n",
       "  <tbody>\n",
       "    <tr>\n",
       "      <th>0</th>\n",
       "      <td>iOS</td>\n",
       "      <td>4298120</td>\n",
       "      <td>2284988</td>\n",
       "      <td>0.531625</td>\n",
       "    </tr>\n",
       "    <tr>\n",
       "      <th>1</th>\n",
       "      <td>android</td>\n",
       "      <td>14110738</td>\n",
       "      <td>7121648</td>\n",
       "      <td>0.504697</td>\n",
       "    </tr>\n",
       "  </tbody>\n",
       "</table>\n",
       "</div>"
      ],
      "text/plain": [
       "  AppPlatform  events_q  autoriz_q        CR\n",
       "0         iOS   4298120    2284988  0.531625\n",
       "1     android  14110738    7121648  0.504697"
      ]
     },
     "execution_count": 6,
     "metadata": {},
     "output_type": "execute_result"
    }
   ],
   "source": [
    "query = \"\"\"     \n",
    "SELECT \n",
    "    ev.AppPlatform,\n",
    "    count(DISTINCT DeviceID) AS events_q, --the number users who have views\n",
    "    a.autoriz_q,\n",
    "    a.autoriz_q/events_q as CR --convertion from view to autorization\n",
    "FROM \n",
    "    events ev\n",
    "JOIN \n",
    "    (SELECT\n",
    "        e.AppPlatform,\n",
    "        count(DISTINCT DeviceID) AS autoriz_q --the number of authorized users who have views\n",
    "    FROM \n",
    "        events e\n",
    "    JOIN \n",
    "        devices d\n",
    "    USING\n",
    "        (DeviceID)\n",
    "    GROUP BY \n",
    "    e.AppPlatform) AS a\n",
    "ON \n",
    "    a.AppPlatform = ev.AppPlatform\n",
    "GROUP BY \n",
    "    AppPlatform, a.autoriz_q\n",
    "\"\"\"\n",
    "df = ph.read_clickhouse(query, connection=connection)\n",
    "df"
   ]
  },
  {
   "cell_type": "code",
   "execution_count": 7,
   "metadata": {},
   "outputs": [
    {
     "data": {
      "text/html": [
       "<div>\n",
       "<style scoped>\n",
       "    .dataframe tbody tr th:only-of-type {\n",
       "        vertical-align: middle;\n",
       "    }\n",
       "\n",
       "    .dataframe tbody tr th {\n",
       "        vertical-align: top;\n",
       "    }\n",
       "\n",
       "    .dataframe thead th {\n",
       "        text-align: right;\n",
       "    }\n",
       "</style>\n",
       "<table border=\"1\" class=\"dataframe\">\n",
       "  <thead>\n",
       "    <tr style=\"text-align: right;\">\n",
       "      <th></th>\n",
       "      <th>Platform</th>\n",
       "      <th>autoriz_q</th>\n",
       "      <th>purch_q</th>\n",
       "      <th>CR</th>\n",
       "    </tr>\n",
       "  </thead>\n",
       "  <tbody>\n",
       "    <tr>\n",
       "      <th>0</th>\n",
       "      <td>android</td>\n",
       "      <td>4625795</td>\n",
       "      <td>3027287</td>\n",
       "      <td>0.654436</td>\n",
       "    </tr>\n",
       "    <tr>\n",
       "      <th>1</th>\n",
       "      <td>iOS</td>\n",
       "      <td>1105145</td>\n",
       "      <td>564247</td>\n",
       "      <td>0.510564</td>\n",
       "    </tr>\n",
       "  </tbody>\n",
       "</table>\n",
       "</div>"
      ],
      "text/plain": [
       "  Platform  autoriz_q  purch_q        CR\n",
       "0  android    4625795  3027287  0.654436\n",
       "1      iOS    1105145   564247  0.510564"
      ]
     },
     "execution_count": 7,
     "metadata": {},
     "output_type": "execute_result"
    }
   ],
   "source": [
    "query = \"\"\"\n",
    "SELECT \n",
    "    Platform, \n",
    "    autoriz_q, \n",
    "    purch_q, \n",
    "    purch_q/autoriz_q AS CR --covertion from utorization to purchase\n",
    "FROM\n",
    "    (SELECT \n",
    "        in.Platform, \n",
    "        count(DISTINCT dv.DeviceID) AS autoriz_q --the number of authorized users\n",
    "    FROM \n",
    "        devices dv \n",
    "    JOIN \n",
    "        installs in\n",
    "    ON \n",
    "        dv.DeviceID = in.DeviceID\n",
    "    GROUP BY \n",
    "        in.Platform) AS a\n",
    "JOIN\n",
    "    (SELECT \n",
    "        i.Platform, \n",
    "        count(DISTINCT d.DeviceID) AS purch_q --the number of authorized users who made the purchases\n",
    "    FROM \n",
    "        devices d \n",
    "    JOIN \n",
    "        installs i\n",
    "    ON \n",
    "        d.DeviceID = i.DeviceID\n",
    "    JOIN \n",
    "        checks c\n",
    "    ON \n",
    "        c.UserID=d.UserID\n",
    "    GROUP BY \n",
    "        i.Platform) AS p\n",
    "ON \n",
    "    i.Platform = a.Platform\n",
    "GROUP BY \n",
    "    Platform, autoriz_q, purch_q\n",
    "\"\"\"\n",
    "df = ph.read_clickhouse(query, connection=connection)\n",
    "df"
   ]
  },
  {
   "cell_type": "code",
   "execution_count": 8,
   "metadata": {},
   "outputs": [
    {
     "data": {
      "text/html": [
       "<div>\n",
       "<style scoped>\n",
       "    .dataframe tbody tr th:only-of-type {\n",
       "        vertical-align: middle;\n",
       "    }\n",
       "\n",
       "    .dataframe tbody tr th {\n",
       "        vertical-align: top;\n",
       "    }\n",
       "\n",
       "    .dataframe thead th {\n",
       "        text-align: right;\n",
       "    }\n",
       "</style>\n",
       "<table border=\"1\" class=\"dataframe\">\n",
       "  <thead>\n",
       "    <tr style=\"text-align: right;\">\n",
       "      <th></th>\n",
       "      <th>i.Platform</th>\n",
       "      <th>avg_sum</th>\n",
       "    </tr>\n",
       "  </thead>\n",
       "  <tbody>\n",
       "    <tr>\n",
       "      <th>0</th>\n",
       "      <td>android</td>\n",
       "      <td>10.394975</td>\n",
       "    </tr>\n",
       "    <tr>\n",
       "      <th>1</th>\n",
       "      <td>iOS</td>\n",
       "      <td>11.024963</td>\n",
       "    </tr>\n",
       "  </tbody>\n",
       "</table>\n",
       "</div>"
      ],
      "text/plain": [
       "  i.Platform    avg_sum\n",
       "0    android  10.394975\n",
       "1        iOS  11.024963"
      ]
     },
     "execution_count": 8,
     "metadata": {},
     "output_type": "execute_result"
    }
   ],
   "source": [
    "query = \"\"\"\n",
    "SELECT \n",
    "    i.Platform, avg(c.Rub) AS avg_sum --average check\n",
    "FROM \n",
    "    checks c\n",
    "JOIN \n",
    "    devices d\n",
    "ON \n",
    "    c.UserID = d.UserID\n",
    "JOIN \n",
    "    installs i\n",
    "ON \n",
    "    i.DeviceID = d.DeviceID\n",
    "GROUP BY \n",
    "    i.Platform\n",
    "\"\"\"\n",
    "df = ph.read_clickhouse(query, connection=connection)\n",
    "df"
   ]
  },
  {
   "cell_type": "code",
   "execution_count": 9,
   "metadata": {},
   "outputs": [
    {
     "data": {
      "text/html": [
       "<div>\n",
       "<style scoped>\n",
       "    .dataframe tbody tr th:only-of-type {\n",
       "        vertical-align: middle;\n",
       "    }\n",
       "\n",
       "    .dataframe tbody tr th {\n",
       "        vertical-align: top;\n",
       "    }\n",
       "\n",
       "    .dataframe thead th {\n",
       "        text-align: right;\n",
       "    }\n",
       "</style>\n",
       "<table border=\"1\" class=\"dataframe\">\n",
       "  <thead>\n",
       "    <tr style=\"text-align: right;\">\n",
       "      <th></th>\n",
       "      <th>AppPlatform</th>\n",
       "      <th>avg_event</th>\n",
       "    </tr>\n",
       "  </thead>\n",
       "  <tbody>\n",
       "    <tr>\n",
       "      <th>0</th>\n",
       "      <td>iOS</td>\n",
       "      <td>25.424526</td>\n",
       "    </tr>\n",
       "    <tr>\n",
       "      <th>1</th>\n",
       "      <td>android</td>\n",
       "      <td>26.006177</td>\n",
       "    </tr>\n",
       "  </tbody>\n",
       "</table>\n",
       "</div>"
      ],
      "text/plain": [
       "  AppPlatform  avg_event\n",
       "0         iOS  25.424526\n",
       "1     android  26.006177"
      ]
     },
     "execution_count": 9,
     "metadata": {},
     "output_type": "execute_result"
    }
   ],
   "source": [
    "query = \"\"\"\n",
    "SELECT \n",
    "    AppPlatform, \n",
    "    avg(e.events) AS avg_event --average views\n",
    "FROM \n",
    "    events e\n",
    "GROUP BY \n",
    "    AppPlatform\n",
    "\"\"\"\n",
    "df = ph.read_clickhouse(query, connection=connection)\n",
    "df"
   ]
  },
  {
   "cell_type": "markdown",
   "metadata": {},
   "source": [
    "## Conclusion"
   ]
  },
  {
   "cell_type": "markdown",
   "metadata": {},
   "source": [
    "We can see that the conversion from viewing to authorization is slightly higher for iOS users, and the conversion from authorization to purchase is higher for Android users. This may indicate that the purchase page is probably worse configured in the IOS app, which stops users from buying after registration. At the same time, the average check and average views are practically the same on the two platforms."
   ]
  }
 ],
 "metadata": {
  "kernelspec": {
   "display_name": "Python 3",
   "language": "python",
   "name": "python3"
  },
  "language_info": {
   "codemirror_mode": {
    "name": "ipython",
    "version": 3
   },
   "file_extension": ".py",
   "mimetype": "text/x-python",
   "name": "python",
   "nbconvert_exporter": "python",
   "pygments_lexer": "ipython3",
   "version": "3.7.3"
  }
 },
 "nbformat": 4,
 "nbformat_minor": 5
}
