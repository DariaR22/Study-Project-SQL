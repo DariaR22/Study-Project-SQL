{
 "cells": [
  {
   "cell_type": "markdown",
   "metadata": {},
   "source": [
    "# SQL Analytics Project: Analysis of AB test results among students of the educational platform"
   ]
  },
  {
   "cell_type": "markdown",
   "metadata": {},
   "source": [
    "## Problem"
   ]
  },
  {
   "cell_type": "markdown",
   "metadata": {},
   "source": [
    "We have the result of A/B testing. During the testing of one hypothesis, the target group of students was offered a new mechanics of paying for services on the educational plaform, the control group remained with the basic mechanics. It is necessary to analyze the results of the experiment and conclude whether it is worth launching a new payment mechanism for all users or not."
   ]
  },
  {
   "cell_type": "markdown",
   "metadata": {},
   "source": [
    "## Data\n",
    "There are four tables, and their names and column definitions are listed below:"
   ]
  },
  {
   "cell_type": "markdown",
   "metadata": {},
   "source": [
    "### Table 1: default.peas\n",
    "_This table includes information about student performance_"
   ]
  },
  {
   "cell_type": "markdown",
   "metadata": {},
   "source": [
    "__st_id__ - student ID;\n",
    "\n",
    "__timest__ - test solution time;\n",
    "\n",
    "__correct__\t- correctness of the test solution;\n",
    "\n",
    "__subject__\t- the subject in which the test is conducted"
   ]
  },
  {
   "cell_type": "markdown",
   "metadata": {},
   "source": [
    "### Table 2: default.studs\n",
    "_This table includes information about A/B test_"
   ]
  },
  {
   "cell_type": "markdown",
   "metadata": {},
   "source": [
    "__st_id__ - student ID;\n",
    "\n",
    "__test_grp__ - group memdership"
   ]
  },
  {
   "cell_type": "markdown",
   "metadata": {},
   "source": [
    "### Table 3: default.final_project_check\n",
    "_This table includes information about course purchases_"
   ]
  },
  {
   "cell_type": "markdown",
   "metadata": {},
   "source": [
    "__st_id__ - student ID;\n",
    "\n",
    "__sale_time__ - time of purchase;\n",
    "\n",
    "__money__ - the price at which this course was purchased;\n",
    "\n",
    "__subject__ - the subject for which the course was purchased"
   ]
  },
  {
   "cell_type": "markdown",
   "metadata": {},
   "source": [
    "*_An active user is considered a student who has solved more than 10 tasks correctly in all disciplines_  \n",
    "*_Active in mathematics is considered a student who has solved 2 or more problems correctly in mathematics all the time_"
   ]
  },
  {
   "cell_type": "markdown",
   "metadata": {},
   "source": [
    "## Analysis"
   ]
  },
  {
   "cell_type": "code",
   "execution_count": 1,
   "metadata": {},
   "outputs": [],
   "source": [
    "# Importing libraries\n",
    "import pandahouse as ph\n",
    "connection = dict(database='default',\n",
    "                  host='https://clickhouse.lab.karpov.courses',\n",
    "                  user='student',\n",
    "                  password='dpo_python_2020')"
   ]
  },
  {
   "cell_type": "markdown",
   "metadata": {},
   "source": [
    "Let's take a look at the tables"
   ]
  },
  {
   "cell_type": "code",
   "execution_count": 2,
   "metadata": {},
   "outputs": [
    {
     "data": {
      "text/html": [
       "<div>\n",
       "<style scoped>\n",
       "    .dataframe tbody tr th:only-of-type {\n",
       "        vertical-align: middle;\n",
       "    }\n",
       "\n",
       "    .dataframe tbody tr th {\n",
       "        vertical-align: top;\n",
       "    }\n",
       "\n",
       "    .dataframe thead th {\n",
       "        text-align: right;\n",
       "    }\n",
       "</style>\n",
       "<table border=\"1\" class=\"dataframe\">\n",
       "  <thead>\n",
       "    <tr style=\"text-align: right;\">\n",
       "      <th></th>\n",
       "      <th>st_id</th>\n",
       "      <th>test_grp</th>\n",
       "    </tr>\n",
       "  </thead>\n",
       "  <tbody>\n",
       "    <tr>\n",
       "      <th>0</th>\n",
       "      <td>100379</td>\n",
       "      <td>pilot</td>\n",
       "    </tr>\n",
       "    <tr>\n",
       "      <th>1</th>\n",
       "      <td>101432</td>\n",
       "      <td>control</td>\n",
       "    </tr>\n",
       "    <tr>\n",
       "      <th>2</th>\n",
       "      <td>104818</td>\n",
       "      <td>pilot</td>\n",
       "    </tr>\n",
       "  </tbody>\n",
       "</table>\n",
       "</div>"
      ],
      "text/plain": [
       "    st_id test_grp\n",
       "0  100379    pilot\n",
       "1  101432  control\n",
       "2  104818    pilot"
      ]
     },
     "execution_count": 2,
     "metadata": {},
     "output_type": "execute_result"
    }
   ],
   "source": [
    "query = \"\"\"     \n",
    "SELECT *\n",
    "FROM default.studs\n",
    "LIMIT 3\n",
    "\"\"\"\n",
    "df = ph.read_clickhouse(query, connection=connection)\n",
    "df"
   ]
  },
  {
   "cell_type": "code",
   "execution_count": 3,
   "metadata": {},
   "outputs": [
    {
     "data": {
      "text/html": [
       "<div>\n",
       "<style scoped>\n",
       "    .dataframe tbody tr th:only-of-type {\n",
       "        vertical-align: middle;\n",
       "    }\n",
       "\n",
       "    .dataframe tbody tr th {\n",
       "        vertical-align: top;\n",
       "    }\n",
       "\n",
       "    .dataframe thead th {\n",
       "        text-align: right;\n",
       "    }\n",
       "</style>\n",
       "<table border=\"1\" class=\"dataframe\">\n",
       "  <thead>\n",
       "    <tr style=\"text-align: right;\">\n",
       "      <th></th>\n",
       "      <th>st_id</th>\n",
       "      <th>subject</th>\n",
       "      <th>correct</th>\n",
       "      <th>timest</th>\n",
       "    </tr>\n",
       "  </thead>\n",
       "  <tbody>\n",
       "    <tr>\n",
       "      <th>0</th>\n",
       "      <td>100379</td>\n",
       "      <td>Theory of probability</td>\n",
       "      <td>1</td>\n",
       "      <td>2021-10-30 13:32:29</td>\n",
       "    </tr>\n",
       "    <tr>\n",
       "      <th>1</th>\n",
       "      <td>100379</td>\n",
       "      <td>Vizualization</td>\n",
       "      <td>0</td>\n",
       "      <td>2021-10-30 14:11:19</td>\n",
       "    </tr>\n",
       "    <tr>\n",
       "      <th>2</th>\n",
       "      <td>100379</td>\n",
       "      <td>Theory of probability</td>\n",
       "      <td>1</td>\n",
       "      <td>2021-10-30 15:54:22</td>\n",
       "    </tr>\n",
       "  </tbody>\n",
       "</table>\n",
       "</div>"
      ],
      "text/plain": [
       "    st_id                subject  correct              timest\n",
       "0  100379  Theory of probability        1 2021-10-30 13:32:29\n",
       "1  100379          Vizualization        0 2021-10-30 14:11:19\n",
       "2  100379  Theory of probability        1 2021-10-30 15:54:22"
      ]
     },
     "execution_count": 3,
     "metadata": {},
     "output_type": "execute_result"
    }
   ],
   "source": [
    "query = \"\"\"     \n",
    "SELECT st_id, subject, correct, CAST(timest as DateTime) as timest\n",
    "FROM default.peas\n",
    "LIMIT 3\n",
    "\"\"\"\n",
    "df_2 = ph.read_clickhouse(query, connection=connection)\n",
    "df_2"
   ]
  },
  {
   "cell_type": "code",
   "execution_count": 4,
   "metadata": {},
   "outputs": [
    {
     "data": {
      "text/html": [
       "<div>\n",
       "<style scoped>\n",
       "    .dataframe tbody tr th:only-of-type {\n",
       "        vertical-align: middle;\n",
       "    }\n",
       "\n",
       "    .dataframe tbody tr th {\n",
       "        vertical-align: top;\n",
       "    }\n",
       "\n",
       "    .dataframe thead th {\n",
       "        text-align: right;\n",
       "    }\n",
       "</style>\n",
       "<table border=\"1\" class=\"dataframe\">\n",
       "  <thead>\n",
       "    <tr style=\"text-align: right;\">\n",
       "      <th></th>\n",
       "      <th>st_id</th>\n",
       "      <th>money</th>\n",
       "      <th>subject</th>\n",
       "      <th>sale_time</th>\n",
       "    </tr>\n",
       "  </thead>\n",
       "  <tbody>\n",
       "    <tr>\n",
       "      <th>0</th>\n",
       "      <td>101432</td>\n",
       "      <td>85000</td>\n",
       "      <td>Math</td>\n",
       "      <td>2021-10-31 04:44:32</td>\n",
       "    </tr>\n",
       "    <tr>\n",
       "      <th>1</th>\n",
       "      <td>101432</td>\n",
       "      <td>65000</td>\n",
       "      <td>Vizualization</td>\n",
       "      <td>2021-10-31 12:43:50</td>\n",
       "    </tr>\n",
       "    <tr>\n",
       "      <th>2</th>\n",
       "      <td>104885</td>\n",
       "      <td>65000</td>\n",
       "      <td>Vizualization</td>\n",
       "      <td>2021-10-30 17:05:55</td>\n",
       "    </tr>\n",
       "  </tbody>\n",
       "</table>\n",
       "</div>"
      ],
      "text/plain": [
       "    st_id  money        subject           sale_time\n",
       "0  101432  85000           Math 2021-10-31 04:44:32\n",
       "1  101432  65000  Vizualization 2021-10-31 12:43:50\n",
       "2  104885  65000  Vizualization 2021-10-30 17:05:55"
      ]
     },
     "execution_count": 4,
     "metadata": {},
     "output_type": "execute_result"
    }
   ],
   "source": [
    "query = \"\"\"     \n",
    "SELECT st_id, money, subject, CAST(sale_time as DateTime) as sale_time\n",
    "FROM default.final_project_check\n",
    "LIMIT 3\n",
    "\"\"\"\n",
    "df = ph.read_clickhouse(query, connection=connection)\n",
    "df"
   ]
  },
  {
   "cell_type": "markdown",
   "metadata": {},
   "source": [
    "In order to compare the results of the experiment in both groups, we will calculate several metrics: \n",
    "- ARPU (average income per paying user)\n",
    "- ARPAU (average income per paying active user)\n",
    "- CR (conversion) to purchase\n",
    "- CR of active user to the purchase \n",
    "- CR of active math user to the purchase of math course"
   ]
  },
  {
   "cell_type": "markdown",
   "metadata": {},
   "source": [
    "These indicators will help to understand if the share of students who bought a course increased during the experiment and find the difference in the purchase amounts"
   ]
  },
  {
   "cell_type": "code",
   "execution_count": 5,
   "metadata": {},
   "outputs": [
    {
     "data": {
      "text/html": [
       "<div>\n",
       "<style scoped>\n",
       "    .dataframe tbody tr th:only-of-type {\n",
       "        vertical-align: middle;\n",
       "    }\n",
       "\n",
       "    .dataframe tbody tr th {\n",
       "        vertical-align: top;\n",
       "    }\n",
       "\n",
       "    .dataframe thead th {\n",
       "        text-align: right;\n",
       "    }\n",
       "</style>\n",
       "<table border=\"1\" class=\"dataframe\">\n",
       "  <thead>\n",
       "    <tr style=\"text-align: right;\">\n",
       "      <th></th>\n",
       "      <th>test_grp</th>\n",
       "      <th>CR</th>\n",
       "      <th>CR_active</th>\n",
       "      <th>CR_math</th>\n",
       "      <th>ARPU</th>\n",
       "      <th>ARPAU</th>\n",
       "    </tr>\n",
       "  </thead>\n",
       "  <tbody>\n",
       "    <tr>\n",
       "      <th>0</th>\n",
       "      <td>control</td>\n",
       "      <td>4.918033</td>\n",
       "      <td>5.511811</td>\n",
       "      <td>6.122449</td>\n",
       "      <td>4540.983607</td>\n",
       "      <td>10393.700787</td>\n",
       "    </tr>\n",
       "    <tr>\n",
       "      <th>1</th>\n",
       "      <td>pilot</td>\n",
       "      <td>10.847458</td>\n",
       "      <td>11.458333</td>\n",
       "      <td>9.523810</td>\n",
       "      <td>11508.474576</td>\n",
       "      <td>29739.583333</td>\n",
       "    </tr>\n",
       "  </tbody>\n",
       "</table>\n",
       "</div>"
      ],
      "text/plain": [
       "  test_grp         CR  CR_active   CR_math          ARPU         ARPAU\n",
       "0  control   4.918033   5.511811  6.122449   4540.983607  10393.700787\n",
       "1    pilot  10.847458  11.458333  9.523810  11508.474576  29739.583333"
      ]
     },
     "execution_count": 5,
     "metadata": {},
     "output_type": "execute_result"
    }
   ],
   "source": [
    "q = '''\n",
    "SELECT\n",
    "    b.test_grp AS test_grp, --group memdership\n",
    "    b.buyers/ts.total_students*100 AS CR, --conversion to purchase\n",
    "    ab.active_buyers/acs.active_students*100 AS CR_active, --conversion of active user to the purchase\n",
    "    amb.active_math_buyers/ams.active_math_students*100 AS CR_math, --conversion of active math user to the purchase of math course\n",
    "    sp.sum_purchases/ts.total_students AS ARPU, --average income per paying active user\n",
    "    sap.sum_active_purchases/acs.active_students AS ARPAU --average income per paying active user\n",
    "FROM\n",
    "    (SELECT test_grp, uniq(st_id) AS total_students --total number of students participating in the experiment\n",
    "    FROM default.studs\n",
    "    GROUP BY test_grp) ts\n",
    "JOIN \n",
    "    (SELECT test_grp, uniq(st_id) AS buyers --number of students who have purchased at least one of any course\n",
    "    FROM\n",
    "        (SELECT fpc.st_id, s.test_grp\n",
    "        FROM default.final_project_check fpc\n",
    "        LEFT JOIN default.studs s\n",
    "        ON fpc.st_id = s.st_id\n",
    "        WHERE fpc.money >0)\n",
    "    GROUP BY test_grp) b\n",
    "ON \n",
    "    b.test_grp = ts.test_grp\n",
    "JOIN\n",
    "    (SELECT test_grp, uniq(st_id) AS active_students --number of active students\n",
    "    FROM\n",
    "        (SELECT SUM(correct) AS correct_q, st_id, test_grp\n",
    "        FROM default.peas p\n",
    "        JOIN default.studs s\n",
    "        ON s.st_id = p.st_id\n",
    "        GROUP BY st_id, test_grp\n",
    "        HAVING correct_q > 10)\n",
    "    GROUP BY test_grp) acs\n",
    "ON \n",
    "    b.test_grp = acs.test_grp\n",
    "JOIN\n",
    "    (SELECT test_grp, uniq(st_id) AS active_buyers --number of active students, who have purchased at least one of any course\n",
    "    FROM\n",
    "        (SELECT SUM(p.correct) AS correct_q, SUM(fpc.money) AS purchase , p.st_id AS st_id, s.test_grp AS test_grp\n",
    "        FROM default.peas p\n",
    "        JOIN default.studs s\n",
    "        ON s.st_id = p.st_id\n",
    "        LEFT JOIN default.final_project_check fpc\n",
    "        ON fpc.st_id = p.st_id\n",
    "        AND p.subject = fpc.subject\n",
    "        GROUP BY p.st_id, s.test_grp\n",
    "        HAVING correct_q > 10 AND purchase > 0)\n",
    "    GROUP BY test_grp) ab\n",
    "ON \n",
    "    acs.test_grp=ab.test_grp\n",
    "JOIN\n",
    "    (SELECT test_grp, COUNT(st_id) AS active_math_students --number of active math students\n",
    "    FROM\n",
    "        (SELECT SUM(correct) AS correct_q, st_id, test_grp\n",
    "        FROM default.peas p\n",
    "        JOIN default.studs s\n",
    "        ON s.st_id = p.st_id\n",
    "        WHERE subject = 'Math'\n",
    "        GROUP BY st_id, test_grp\n",
    "        HAVING correct_q >= 2)\n",
    "    GROUP BY test_grp) ams\n",
    "ON \n",
    "    acs.test_grp=ams.test_grp\n",
    "JOIN\n",
    "    (SELECT test_grp, COUNT(st_id) AS active_math_buyers --number of active math students, who have purchased math course\n",
    "    FROM\n",
    "        (SELECT SUM(p.correct) AS correct_q, SUM(fpc.money) AS purchase , p.st_id AS st_id, s.test_grp AS test_grp\n",
    "        FROM default.peas p\n",
    "        JOIN default.studs s\n",
    "        ON s.st_id = p.st_id\n",
    "        LEFT JOIN default.final_project_check fpc\n",
    "        ON fpc.st_id = p.st_id\n",
    "        AND p.subject = fpc.subject\n",
    "        WHERE p.subject = 'Math'\n",
    "        GROUP BY p.st_id, s.test_grp\n",
    "        HAVING correct_q >= 2 AND purchase > 0)\n",
    "    GROUP BY test_grp) amb\n",
    "ON \n",
    "    ams.test_grp=amb.test_grp\n",
    "JOIN\n",
    "    (SELECT test_grp, SUM(money) AS sum_purchases --total amount of purchases\n",
    "    FROM default.final_project_check fpc\n",
    "    JOIN default.studs s\n",
    "    ON s.st_id = fpc.st_id\n",
    "    GROUP BY test_grp) sp\n",
    "ON \n",
    "    ams.test_grp=sp.test_grp\n",
    "JOIN\n",
    "    (SELECT test_grp, sum(fpc.money) AS sum_active_purchases --the amount of purchases of active users\n",
    "    FROM default.final_project_check fpc\n",
    "    JOIN \n",
    "    (SELECT sum(correct) AS success, st_id\n",
    "    FROM default.peas\n",
    "    GROUP BY st_id\n",
    "    HAVING success > 10) p\n",
    "    ON fpc.st_id = p.st_id\n",
    "    JOIN default.studs s\n",
    "    ON fpc.st_id = s.st_id\n",
    "    GROUP BY test_grp) sap\n",
    "ON \n",
    "    ams.test_grp=sap.test_grp\n",
    "    '''\n",
    "metrics = ph.read_clickhouse(query=q, connection=connection)\n",
    "metrics"
   ]
  },
  {
   "cell_type": "markdown",
   "metadata": {},
   "source": [
    "## Conclusion"
   ]
  },
  {
   "cell_type": "markdown",
   "metadata": {},
   "source": [
    "The conversion to purchase of all users of the pilot group, including active users, is more than twice as high as that of students of the control group, and the conversion is also significantly higher among active math students. The average revenue per attracted user in the pilot group also exceeds the same indicator in the control group by more than twice. The average income from the attracted active user in the pilot group is also significantly higher. Thus, the introduction of a new payment screen for the pilot group was effective, and these changes can be distributed to all users of educational platform."
   ]
  }
 ],
 "metadata": {
  "kernelspec": {
   "display_name": "Python 3",
   "language": "python",
   "name": "python3"
  },
  "language_info": {
   "codemirror_mode": {
    "name": "ipython",
    "version": 3
   },
   "file_extension": ".py",
   "mimetype": "text/x-python",
   "name": "python",
   "nbconvert_exporter": "python",
   "pygments_lexer": "ipython3",
   "version": "3.7.3"
  }
 },
 "nbformat": 4,
 "nbformat_minor": 4
}
